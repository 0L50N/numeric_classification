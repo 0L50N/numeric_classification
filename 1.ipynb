{
 "cells": [
  {
   "cell_type": "code",
   "execution_count": null,
   "id": "a5789374",
   "metadata": {},
   "outputs": [],
   "source": [
    "from sklearn.model_selection import train_test_split\n",
    "from sklearn import model_selection, preprocessing, linear_model, naive_bayes, metrics, svm, ensemble\n",
    "from sklearn.preprocessing import StandardScaler\n",
    "import numpy as np\n",
    "import pandas as pd\n",
    "import seaborn as sns\n",
    "import matplotlib.pyplot as plt\n",
    "\n",
    "store = pd.read_csv('superstore_data.csv')\n",
    "store.head()"
   ]
  },
  {
   "cell_type": "code",
   "execution_count": null,
   "id": "1a07706b",
   "metadata": {},
   "outputs": [],
   "source": [
    "# analiza danych statystycznych\n",
    "print(store.describe())\n",
    "print(store.info())\n",
    "print(store.isnull().values.any())"
   ]
  },
  {
   "cell_type": "code",
   "execution_count": null,
   "id": "8659d19e",
   "metadata": {},
   "outputs": [],
   "source": [
    "store[\"Age\"]= 2022 - store[\"Year_Birth\"]\n",
    "store.Age[:10]"
   ]
  },
  {
   "cell_type": "code",
   "execution_count": null,
   "id": "43bd073a",
   "metadata": {},
   "outputs": [],
   "source": [
    "#rozkład wieku\n",
    "store.Age.hist()"
   ]
  },
  {
   "cell_type": "code",
   "execution_count": null,
   "id": "988eccfa",
   "metadata": {},
   "outputs": [],
   "source": [
    "#rozkład wieku wraz z odpowiedzią na kampanię\n",
    "pd.crosstab(store.Age, store.Response).T"
   ]
  },
  {
   "cell_type": "code",
   "execution_count": null,
   "id": "f024e8f3",
   "metadata": {},
   "outputs": [],
   "source": [
    "#sprawdzenie wszystkich kolumn\n",
    "store.columns"
   ]
  },
  {
   "cell_type": "code",
   "execution_count": null,
   "id": "155a8aac",
   "metadata": {},
   "outputs": [],
   "source": [
    "# rozmiar\n",
    "store.shape"
   ]
  },
  {
   "cell_type": "code",
   "execution_count": null,
   "id": "557d25dd",
   "metadata": {},
   "outputs": [],
   "source": [
    "# sprawdzenie brakujących danych\n",
    "store.isna().sum()"
   ]
  },
  {
   "cell_type": "code",
   "execution_count": null,
   "id": "e21c0822",
   "metadata": {},
   "outputs": [],
   "source": [
    "#wypełnienie brakujących danych w Income wartością 0\n",
    "\n",
    "store.Income = store.Income.fillna(0)"
   ]
  },
  {
   "cell_type": "code",
   "execution_count": null,
   "id": "65a461db",
   "metadata": {},
   "outputs": [],
   "source": [
    "# wyznaczenie macierzy korelacji\n",
    "\n",
    "correlations = store.corr()\n",
    "fig, ax = plt.subplots(figsize=(18, 18))\n",
    "colormap = sns.color_palette(\"BrBG\", 10)\n",
    "ax= sns.heatmap(correlations, annot= True, linewidths= 2, cmap=colormap)\n",
    "plt.show()"
   ]
  },
  {
   "cell_type": "code",
   "execution_count": null,
   "id": "8a0ceb0a",
   "metadata": {},
   "outputs": [],
   "source": [
    "# usuwanie nieprzydatnych danych\n",
    "store.drop(['Id', 'Complain', 'Response', 'Year_Birth', 'NumWebVisitsMonth' ,'Dt_Customer'],\n",
    "           axis=1, inplace = True)"
   ]
  },
  {
   "cell_type": "code",
   "execution_count": null,
   "id": "e6bb82eb",
   "metadata": {},
   "outputs": [],
   "source": [
    "mapsMaritalStatus = {\n",
    "    'Single': 0,\n",
    "    'Married': 1,\n",
    "    'Together': 2,\n",
    "    'Divorced': 3,\n",
    "    'Widow': 4,\n",
    "    'YOLO': 5,\n",
    "    'Alone': 6,\n",
    "    'Absurd': 7\n",
    "}\n",
    "store['Marital_Status'] = store['Marital_Status'].apply(lambda x: mapsMaritalStatus[x])"
   ]
  },
  {
   "cell_type": "code",
   "execution_count": null,
   "id": "b6a7757e",
   "metadata": {},
   "outputs": [],
   "source": [
    "wyksztalcenie = {\n",
    "    'Graduation': 0,\n",
    "    'PhD': 1,\n",
    "    '2n Cycle': 2,\n",
    "    'Master': 3,\n",
    "    'Basic': 4\n",
    "}\n",
    "store['Education'] = store['Education'].apply(lambda x: wyksztalcenie[x])"
   ]
  },
  {
   "cell_type": "code",
   "execution_count": null,
   "id": "525e096f",
   "metadata": {},
   "outputs": [],
   "source": [
    "# wyznaczenie macierzy korelacji\n",
    "\n",
    "correlations = store.corr()\n",
    "fig, ax = plt.subplots(figsize=(18, 18))\n",
    "colormap = sns.color_palette(\"BrBG\", 10)\n",
    "ax= sns.heatmap(correlations, annot= True, linewidths= 2, cmap=colormap)\n",
    "plt.show()"
   ]
  },
  {
   "cell_type": "code",
   "execution_count": null,
   "id": "834ee5ff",
   "metadata": {},
   "outputs": [],
   "source": [
    "#2. usuwanie nieprzydatnych danych\n",
    "store.drop(['Education', 'Marital_Status', 'Recency', 'Teenhome', 'NumDealsPurchases', 'Age', 'MntGoldProds', 'Kidhome'],\n",
    "           axis=1, inplace = True)"
   ]
  },
  {
   "cell_type": "code",
   "execution_count": null,
   "id": "6c95da6d",
   "metadata": {},
   "outputs": [],
   "source": [
    "# wyznaczenie macierzy korelacji\n",
    "\n",
    "correlations = store.corr()\n",
    "fig, ax = plt.subplots(figsize=(18, 18))\n",
    "colormap = sns.color_palette(\"BrBG\", 10)\n",
    "ax= sns.heatmap(correlations, annot= True, linewidths= 2, cmap=colormap)\n",
    "plt.show()"
   ]
  },
  {
   "cell_type": "code",
   "execution_count": null,
   "id": "0353f806",
   "metadata": {},
   "outputs": [],
   "source": [
    "# zbiór danych\n",
    "X = store.drop('NumCatalogPurchases', axis=1).to_numpy()\n",
    "X"
   ]
  },
  {
   "cell_type": "code",
   "execution_count": null,
   "id": "4f38462c",
   "metadata": {},
   "outputs": [],
   "source": [
    "# zbiór etykiet\n",
    "y = store.loc[:, 'NumCatalogPurchases'].to_numpy()\n",
    "y"
   ]
  },
  {
   "cell_type": "code",
   "execution_count": null,
   "id": "81395061",
   "metadata": {},
   "outputs": [],
   "source": [
    "# podział zbioru na dane treningowe i testowe\n",
    "X_train, X_test, y_train, y_test = train_test_split(X, y, test_size=0.2, random_state=12345) "
   ]
  },
  {
   "cell_type": "code",
   "execution_count": null,
   "id": "b0bc64e9",
   "metadata": {},
   "outputs": [],
   "source": [
    "# uniwersalna metoda do trenowania i oceny modeli\n",
    "\n",
    "def train_model(classifier, feature_vector_train, label, feature_vector_valid):\n",
    "    # trenuj model\n",
    "    classifier.fit(feature_vector_train, label)\n",
    "    \n",
    "    # wygeneruj przewidywania modelu dla zbioru testowego\n",
    "    predictions = classifier.predict(feature_vector_valid)\n",
    "    \n",
    "    # dokonaj ewaluacji modelu na podstawie danych testowych\n",
    "    scores = list(metrics.precision_recall_fscore_support(predictions, y_test,zero_division = 1))\n",
    "    score_vals = [\n",
    "        scores[0][0],\n",
    "        scores[1][0],\n",
    "        scores[2][0]\n",
    "    ]\n",
    "    score_vals.append(metrics.accuracy_score(predictions, y_test))\n",
    "    return score_vals"
   ]
  },
  {
   "cell_type": "code",
   "execution_count": null,
   "id": "7a74024f",
   "metadata": {},
   "outputs": [],
   "source": [
    "# MODEL 1 - regresja logistyczna \n",
    "scaler = StandardScaler()\n",
    "X_train = scaler.fit_transform(X_train)\n",
    "X_test = scaler.transform(X_test)\n",
    "\n",
    "classifier = linear_model.LogisticRegression(max_iter=1000)\n",
    "\n",
    "accuracy = train_model(classifier, X_train, y_train, X_test)\n",
    "accuracy_compare = {'LR': accuracy}\n",
    "print (\"LR: \", accuracy)"
   ]
  },
  {
   "cell_type": "code",
   "execution_count": null,
   "id": "c7237fab",
   "metadata": {},
   "outputs": [],
   "source": [
    "# MODEL 2 - Support Vector Machine\n",
    "accuracy = train_model(svm.SVC(), X_train, y_train, X_test)\n",
    "accuracy_compare['SVM'] = accuracy\n",
    "print (\"SVM\" , accuracy)"
   ]
  },
  {
   "cell_type": "code",
   "execution_count": null,
   "id": "59395d0d",
   "metadata": {},
   "outputs": [],
   "source": [
    "# MODEL 3 - Random Forest Tree \n",
    "accuracy = train_model(ensemble.RandomForestClassifier(), X_train, y_train, X_test)\n",
    "accuracy_compare['RF'] = accuracy\n",
    "print (\"RF: \", accuracy)"
   ]
  },
  {
   "cell_type": "code",
   "execution_count": null,
   "id": "ddfbad32",
   "metadata": {},
   "outputs": [],
   "source": [
    "# porównanie modeli\n",
    "\n",
    "df_compare = pd.DataFrame(accuracy_compare, index = ['precision', 'recall', 'f1 score', 'accuracy'])\n",
    "df_compare.plot(kind='bar')"
   ]
  },
  {
   "cell_type": "code",
   "execution_count": null,
   "id": "77a26878",
   "metadata": {},
   "outputs": [],
   "source": [
    "# działania korygujące - zastosowanie sieci neuronowej\n",
    "\n",
    "# MODEL 4 - neural network\n",
    "from sklearn.neural_network import MLPClassifier\n",
    "mlp = MLPClassifier(hidden_layer_sizes=(10, 10, 10), max_iter=1000)\n",
    "accuracy = train_model(mlp, X_train, y_train, X_test)\n",
    "accuracy_compare['neural network'] = accuracy\n",
    "print (\"neural network\" , accuracy)"
   ]
  },
  {
   "cell_type": "code",
   "execution_count": null,
   "id": "8d8d2816",
   "metadata": {},
   "outputs": [],
   "source": [
    "# działania korygujące - hiperparametry\n",
    "\n",
    "# MODEL 5 - Support Vector Machine\n",
    "accuracy = train_model(svm.SVC(gamma='auto'), X_train, y_train, X_test)\n",
    "accuracy_compare['SVM'] = accuracy\n",
    "print (\"SVM gamma='auto'\" , accuracy)\n",
    "\n",
    "# MODEL 6 - Support Vector Machine\n",
    "accuracy = train_model(svm.SVC(kernel='sigmoid'), X_train, y_train, X_test)\n",
    "accuracy_compare['SVM'] = accuracy\n",
    "print (\"SVM kernel='sigmoid'\" , accuracy)\n",
    "\n",
    "# MODEL 7 - Support Vector Machine\n",
    "accuracy = train_model(svm.SVC(degree=4), X_train, y_train, X_test)\n",
    "accuracy_compare['SVM'] = accuracy\n",
    "print (\"SVM degree=4\" , accuracy)"
   ]
  },
  {
   "cell_type": "code",
   "execution_count": null,
   "id": "02dacbfc",
   "metadata": {},
   "outputs": [],
   "source": []
  }
 ],
 "metadata": {
  "kernelspec": {
   "display_name": "Python 3 (ipykernel)",
   "language": "python",
   "name": "python3"
  },
  "language_info": {
   "codemirror_mode": {
    "name": "ipython",
    "version": 3
   },
   "file_extension": ".py",
   "mimetype": "text/x-python",
   "name": "python",
   "nbconvert_exporter": "python",
   "pygments_lexer": "ipython3",
   "version": "3.9.12"
  }
 },
 "nbformat": 4,
 "nbformat_minor": 5
}
